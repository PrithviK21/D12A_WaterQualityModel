{
 "cells": [
  {
   "cell_type": "code",
   "execution_count": 14,
   "source": [
    "import pandas as pd\r\n",
    "\r\n",
    "df = pd.read_excel(\"Water_Quality_Only_Rivers.xlsx\")\r\n"
   ],
   "outputs": [],
   "metadata": {}
  },
  {
   "cell_type": "code",
   "execution_count": 32,
   "source": [
    "#df = pd.read_excel(\"Datsaset_without_faecal_none.xlsx\")\r\n",
    "df.shape\r\n",
    "df2 = df.groupby('STATION CODE').filter(lambda x: len(x) > 2)\r\n",
    "df2.fillna().shape"
   ],
   "outputs": [
    {
     "output_type": "execute_result",
     "data": {
      "text/plain": [
       "(7746, 12)"
      ]
     },
     "metadata": {},
     "execution_count": 32
    }
   ],
   "metadata": {}
  }
 ],
 "metadata": {
  "orig_nbformat": 4,
  "language_info": {
   "name": "python",
   "version": "3.9.2",
   "mimetype": "text/x-python",
   "codemirror_mode": {
    "name": "ipython",
    "version": 3
   },
   "pygments_lexer": "ipython3",
   "nbconvert_exporter": "python",
   "file_extension": ".py"
  },
  "kernelspec": {
   "name": "python3",
   "display_name": "Python 3.9.2 64-bit"
  },
  "interpreter": {
   "hash": "eee4d3abb82e79a0462123c66a1c264dd48b1bcc93ac942546f5f76001ea26d3"
  }
 },
 "nbformat": 4,
 "nbformat_minor": 2
}